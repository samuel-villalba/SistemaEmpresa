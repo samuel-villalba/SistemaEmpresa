{
 "cells": [
  {
   "cell_type": "markdown",
   "id": "043e8f7e-1f83-404f-b679-bc09d55fac67",
   "metadata": {},
   "source": [
    "https://www.kaggle.com/datasets/vishesh1412/celebrity-face-image-dataset"
   ]
  },
  {
   "cell_type": "code",
   "execution_count": 4,
   "id": "2dd486c5-8c76-43ae-ab4e-3b1b3032f25b",
   "metadata": {},
   "outputs": [
    {
     "name": "stdout",
     "output_type": "stream",
     "text": [
      "\n",
      "Angelina Jolie\n",
      "Brad Pitt\n",
      "Denzel Washington\n",
      "Hugh Jackman\n",
      "Jennifer Lawrence\n",
      "Johnny Depp\n",
      "Kate Winslet\n",
      "Leonardo DiCaprio\n",
      "Megan Fox\n",
      "Natalie Portman\n",
      "Nicole Kidman\n",
      "Robert Downey Jr\n",
      "Sandra Bullock\n",
      "Scarlett Johansson\n",
      "Tom Cruise\n",
      "Tom Hanks\n",
      "Will Smith\n"
     ]
    }
   ],
   "source": [
    "import os\n",
    "\n",
    "# Define a list of directories to process\n",
    "directories = [x[0] for x in os.walk(\"Celebrity Faces Dataset/\")]\n",
    "\n",
    "# Loop through each directory in the list\n",
    "for directory_path in directories:\n",
    "    # Get the name of the current directory\n",
    "    directory_name = os.path.basename(directory_path)\n",
    "    print(directory_name)\n",
    "    # Loop through all the files in the directory\n",
    "    counter=1\n",
    "    for filename in os.listdir(directory_path):\n",
    "        # Construct the full file path\n",
    "        file_path = os.path.join(directory_path, filename)\n",
    "        \n",
    "        # Check if it's a file (not a directory)\n",
    "        if os.path.isfile(file_path):\n",
    "            if counter>10:\n",
    "                os.remove(file_path)\n",
    "            else:\n",
    "                # Create the new filename by prepending the directory name\n",
    "                new_filename = f\"{directory_name}_{counter}.jpg\"\n",
    "                counter=counter+1\n",
    "                # Create the full new file path\n",
    "                new_file_path = os.path.join(directory_path, new_filename)\n",
    "                \n",
    "                # Rename the file\n",
    "                os.rename(file_path, new_file_path)\n",
    "                # print(f'Renamed in {directory_name}: {filename} -> {new_filename}')"
   ]
  },
  {
   "cell_type": "code",
   "execution_count": 10,
   "id": "d5add207-5bd3-43ab-881c-a92fcc7c92f9",
   "metadata": {},
   "outputs": [
    {
     "data": {
      "text/plain": [
       "['Celebrity Faces Dataset/',\n",
       " 'Celebrity Faces Dataset/Angelina Jolie',\n",
       " 'Celebrity Faces Dataset/Brad Pitt',\n",
       " 'Celebrity Faces Dataset/Denzel Washington',\n",
       " 'Celebrity Faces Dataset/Hugh Jackman',\n",
       " 'Celebrity Faces Dataset/Jennifer Lawrence',\n",
       " 'Celebrity Faces Dataset/Johnny Depp',\n",
       " 'Celebrity Faces Dataset/Kate Winslet',\n",
       " 'Celebrity Faces Dataset/Leonardo DiCaprio',\n",
       " 'Celebrity Faces Dataset/Megan Fox',\n",
       " 'Celebrity Faces Dataset/Natalie Portman',\n",
       " 'Celebrity Faces Dataset/Nicole Kidman',\n",
       " 'Celebrity Faces Dataset/Robert Downey Jr',\n",
       " 'Celebrity Faces Dataset/Sandra Bullock',\n",
       " 'Celebrity Faces Dataset/Scarlett Johansson',\n",
       " 'Celebrity Faces Dataset/Tom Cruise',\n",
       " 'Celebrity Faces Dataset/Tom Hanks',\n",
       " 'Celebrity Faces Dataset/Will Smith']"
      ]
     },
     "execution_count": 10,
     "metadata": {},
     "output_type": "execute_result"
    }
   ],
   "source": [
    "[x[0] for x in os.walk(\"Celebrity Faces Dataset/\")]"
   ]
  },
  {
   "cell_type": "code",
   "execution_count": 6,
   "id": "1ddcc0ea-562f-4223-bc3e-496e1bd4c545",
   "metadata": {},
   "outputs": [
    {
     "data": {
      "text/plain": [
       "['Angelina Jolie',\n",
       " 'Brad Pitt',\n",
       " 'Denzel Washington',\n",
       " 'Hugh Jackman',\n",
       " 'Jennifer Lawrence',\n",
       " 'Johnny Depp',\n",
       " 'Kate Winslet',\n",
       " 'Leonardo DiCaprio',\n",
       " 'Megan Fox',\n",
       " 'Natalie Portman',\n",
       " 'Nicole Kidman',\n",
       " 'Robert Downey Jr',\n",
       " 'Sandra Bullock',\n",
       " 'Scarlett Johansson',\n",
       " 'Tom Cruise',\n",
       " 'Tom Hanks',\n",
       " 'Will Smith']"
      ]
     },
     "execution_count": 6,
     "metadata": {},
     "output_type": "execute_result"
    }
   ],
   "source": [
    "os.listdir(\"Celebrity Faces Dataset/\") "
   ]
  },
  {
   "cell_type": "code",
   "execution_count": 3,
   "id": "d00ac720-91a1-46fb-9914-53289f4e8c36",
   "metadata": {},
   "outputs": [
    {
     "data": {
      "text/plain": [
       "<generator object _walk at 0x000002D6F6294D30>"
      ]
     },
     "execution_count": 3,
     "metadata": {},
     "output_type": "execute_result"
    }
   ],
   "source": [
    "os.walk(\"Celebrity Faces Dataset/\")"
   ]
  }
 ],
 "metadata": {
  "kernelspec": {
   "display_name": "Python 3 (ipykernel)",
   "language": "python",
   "name": "python3"
  },
  "language_info": {
   "codemirror_mode": {
    "name": "ipython",
    "version": 3
   },
   "file_extension": ".py",
   "mimetype": "text/x-python",
   "name": "python",
   "nbconvert_exporter": "python",
   "pygments_lexer": "ipython3",
   "version": "3.11.1"
  }
 },
 "nbformat": 4,
 "nbformat_minor": 5
}
